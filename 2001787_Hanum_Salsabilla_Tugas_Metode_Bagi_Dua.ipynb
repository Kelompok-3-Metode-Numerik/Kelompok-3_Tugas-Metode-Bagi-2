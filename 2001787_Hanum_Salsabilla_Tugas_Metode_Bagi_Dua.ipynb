{
  "nbformat": 4,
  "nbformat_minor": 0,
  "metadata": {
    "colab": {
      "provenance": []
    },
    "kernelspec": {
      "name": "python3",
      "display_name": "Python 3"
    },
    "language_info": {
      "name": "python"
    }
  },
  "cells": [
    {
      "cell_type": "markdown",
      "source": [
        "## **Akar Persamaan Non-Linier**\n",
        "Berikut ini merupakan fungsi dasar dari metode yang dapat digunakan untuk mencari akar Persamaan non-Linier"
      ],
      "metadata": {
        "id": "Tlb0XvJxS_oW"
      }
    },
    {
      "cell_type": "markdown",
      "source": [
        "**Pencarian Akar dengan Library**\n",
        "\n",
        "Contoh Fungsi: f(x) = cos(x)-x"
      ],
      "metadata": {
        "id": "8zXDT3F6UTm8"
      }
    },
    {
      "cell_type": "code",
      "source": [
        "import numpy as np\n",
        "from scipy import optimize\n",
        "f = lambda x: np.cos(x) - x\n",
        "r = optimize.fsolve(f, -2)\n",
        "print(\"r =\",r)\n",
        "# Verify the solution is a root\n",
        "result = f(r)\n",
        "print(\"result=\", result)"
      ],
      "metadata": {
        "colab": {
          "base_uri": "https://localhost:8080/"
        },
        "id": "gMnlEqjjUnAa",
        "outputId": "dba31922-a0e9-40d4-b136-dad342f9b7fa"
      },
      "execution_count": null,
      "outputs": [
        {
          "output_type": "stream",
          "name": "stdout",
          "text": [
            "r = [0.73908513]\n",
            "result= [0.]\n"
          ]
        }
      ]
    },
    {
      "cell_type": "markdown",
      "source": [
        "**Metode Bagi Dua**"
      ],
      "metadata": {
        "id": "ySxrsdzGTn0Z"
      }
    },
    {
      "cell_type": "code",
      "execution_count": null,
      "metadata": {
        "id": "j7lAxfNeS9M0"
      },
      "outputs": [],
      "source": [
        "import numpy as np #panggil library\n",
        "def my_bisection(f, a, b, e):\n",
        "  if np.sign(f(a)) == np.sign(f(b)):\n",
        "    raise Exception('Tidak ada akar pada interval a dan b')\n",
        "  m = (a + b)/2\n",
        "  if np.abs(f(m)) < e:\n",
        "    return m\n",
        "  elif np.sign(f(a)) == np.sign(f(m)):\n",
        "    return my_bisection(f, m, b, e)\n",
        "  elif np.sign(f(b)) == np.sign(f(m)):\n",
        "    return my_bisection(f, a, m, e)"
      ]
    },
    {
      "cell_type": "markdown",
      "source": [
        "**Contoh Pencarian Akar dengan Metode Bagi Dua**\n",
        "\n",
        "f(x)=x^2 - 2"
      ],
      "metadata": {
        "id": "QK5X5eINXZln"
      }
    },
    {
      "cell_type": "code",
      "source": [
        "import numpy as np #panggil library\n",
        "f = lambda x: x**2-2\n",
        "\n",
        "r1 = my_bisection(f, 0, 2, 0.1)\n",
        "print(\"r1 =\", r1)\n",
        "print(\"f(r1) =\", f(r1))\n",
        "\n",
        "r01 = my_bisection(f, 0, 2, 0.01)\n",
        "print(\"r01 =\", r01)\n",
        "print(\"f(r01) =\", f(r01))"
      ],
      "metadata": {
        "colab": {
          "base_uri": "https://localhost:8080/"
        },
        "id": "eJr_l7e2XyM0",
        "outputId": "9f0a0bf6-a59a-4ae7-fc1c-e4c436d940ea"
      },
      "execution_count": null,
      "outputs": [
        {
          "output_type": "stream",
          "name": "stdout",
          "text": [
            "r1 = 1.4375\n",
            "f(r1) = 0.06640625\n",
            "r01 = 1.4140625\n",
            "f(r01) = -0.00042724609375\n"
          ]
        }
      ]
    },
    {
      "cell_type": "code",
      "source": [
        "import numpy as np #panggil library\n",
        "f = lambda x: x**2-2\n",
        "my_bisection(f, 2, 4, 0.01)"
      ],
      "metadata": {
        "colab": {
          "base_uri": "https://localhost:8080/",
          "height": 322
        },
        "id": "wXEmWDL3Yh1R",
        "outputId": "66a66430-8175-4210-f0f5-180d79f1eb76"
      },
      "execution_count": null,
      "outputs": [
        {
          "output_type": "error",
          "ename": "Exception",
          "evalue": "ignored",
          "traceback": [
            "\u001b[0;31m---------------------------------------------------------------------------\u001b[0m",
            "\u001b[0;31mException\u001b[0m                                 Traceback (most recent call last)",
            "\u001b[0;32m<ipython-input-13-9db7d48a44ca>\u001b[0m in \u001b[0;36m<module>\u001b[0;34m\u001b[0m\n\u001b[1;32m      1\u001b[0m \u001b[0;32mimport\u001b[0m \u001b[0mnumpy\u001b[0m \u001b[0;32mas\u001b[0m \u001b[0mnp\u001b[0m \u001b[0;31m#panggil library\u001b[0m\u001b[0;34m\u001b[0m\u001b[0;34m\u001b[0m\u001b[0m\n\u001b[1;32m      2\u001b[0m \u001b[0mf\u001b[0m \u001b[0;34m=\u001b[0m \u001b[0;32mlambda\u001b[0m \u001b[0mx\u001b[0m\u001b[0;34m:\u001b[0m \u001b[0mx\u001b[0m\u001b[0;34m**\u001b[0m\u001b[0;36m2\u001b[0m\u001b[0;34m-\u001b[0m\u001b[0;36m2\u001b[0m\u001b[0;34m\u001b[0m\u001b[0;34m\u001b[0m\u001b[0m\n\u001b[0;32m----> 3\u001b[0;31m \u001b[0mmy_bisection\u001b[0m\u001b[0;34m(\u001b[0m\u001b[0mf\u001b[0m\u001b[0;34m,\u001b[0m \u001b[0;36m2\u001b[0m\u001b[0;34m,\u001b[0m \u001b[0;36m4\u001b[0m\u001b[0;34m,\u001b[0m \u001b[0;36m0.01\u001b[0m\u001b[0;34m)\u001b[0m\u001b[0;34m\u001b[0m\u001b[0;34m\u001b[0m\u001b[0m\n\u001b[0m",
            "\u001b[0;32m<ipython-input-11-232ee789a6b2>\u001b[0m in \u001b[0;36mmy_bisection\u001b[0;34m(f, a, b, e)\u001b[0m\n\u001b[1;32m      2\u001b[0m \u001b[0;32mdef\u001b[0m \u001b[0mmy_bisection\u001b[0m\u001b[0;34m(\u001b[0m\u001b[0mf\u001b[0m\u001b[0;34m,\u001b[0m \u001b[0ma\u001b[0m\u001b[0;34m,\u001b[0m \u001b[0mb\u001b[0m\u001b[0;34m,\u001b[0m \u001b[0me\u001b[0m\u001b[0;34m)\u001b[0m\u001b[0;34m:\u001b[0m\u001b[0;34m\u001b[0m\u001b[0;34m\u001b[0m\u001b[0m\n\u001b[1;32m      3\u001b[0m   \u001b[0;32mif\u001b[0m \u001b[0mnp\u001b[0m\u001b[0;34m.\u001b[0m\u001b[0msign\u001b[0m\u001b[0;34m(\u001b[0m\u001b[0mf\u001b[0m\u001b[0;34m(\u001b[0m\u001b[0ma\u001b[0m\u001b[0;34m)\u001b[0m\u001b[0;34m)\u001b[0m \u001b[0;34m==\u001b[0m \u001b[0mnp\u001b[0m\u001b[0;34m.\u001b[0m\u001b[0msign\u001b[0m\u001b[0;34m(\u001b[0m\u001b[0mf\u001b[0m\u001b[0;34m(\u001b[0m\u001b[0mb\u001b[0m\u001b[0;34m)\u001b[0m\u001b[0;34m)\u001b[0m\u001b[0;34m:\u001b[0m\u001b[0;34m\u001b[0m\u001b[0;34m\u001b[0m\u001b[0m\n\u001b[0;32m----> 4\u001b[0;31m     \u001b[0;32mraise\u001b[0m \u001b[0mException\u001b[0m\u001b[0;34m(\u001b[0m\u001b[0;34m'Tidak ada akar pada interval a dan b'\u001b[0m\u001b[0;34m)\u001b[0m\u001b[0;34m\u001b[0m\u001b[0;34m\u001b[0m\u001b[0m\n\u001b[0m\u001b[1;32m      5\u001b[0m   \u001b[0mm\u001b[0m \u001b[0;34m=\u001b[0m \u001b[0;34m(\u001b[0m\u001b[0ma\u001b[0m \u001b[0;34m+\u001b[0m \u001b[0mb\u001b[0m\u001b[0;34m)\u001b[0m\u001b[0;34m/\u001b[0m\u001b[0;36m2\u001b[0m\u001b[0;34m\u001b[0m\u001b[0;34m\u001b[0m\u001b[0m\n\u001b[1;32m      6\u001b[0m   \u001b[0;32mif\u001b[0m \u001b[0mnp\u001b[0m\u001b[0;34m.\u001b[0m\u001b[0mabs\u001b[0m\u001b[0;34m(\u001b[0m\u001b[0mf\u001b[0m\u001b[0;34m(\u001b[0m\u001b[0mm\u001b[0m\u001b[0;34m)\u001b[0m\u001b[0;34m)\u001b[0m \u001b[0;34m<\u001b[0m \u001b[0me\u001b[0m\u001b[0;34m:\u001b[0m\u001b[0;34m\u001b[0m\u001b[0;34m\u001b[0m\u001b[0m\n",
            "\u001b[0;31mException\u001b[0m: Tidak ada akar pada interval a dan b"
          ]
        }
      ]
    },
    {
      "cell_type": "markdown",
      "source": [
        "**Metode Newton-Raphson**"
      ],
      "metadata": {
        "id": "uqd3qNtxS939"
      }
    },
    {
      "cell_type": "code",
      "source": [
        "import numpy as np #panggil library\n",
        "def my_newton(f, df, x0, e):\n",
        "# output is an estimation of the root of f\n",
        "# using the Newton-Raphson method\n",
        "# recursive implementation\n",
        "  if abs(f(x0)) < e:\n",
        "    return x0\n",
        "  else:\n",
        "    return my_newton(f, df, x0 - f(x0)/df(x0), e)"
      ],
      "metadata": {
        "id": "NWM7-9tpVr0a"
      },
      "execution_count": null,
      "outputs": []
    },
    {
      "cell_type": "markdown",
      "source": [
        "**Contoh Pencarian Akar dengan Metode Bagi Dua**\n",
        "\n",
        "f(x)=x^2 - 2"
      ],
      "metadata": {
        "id": "ffztAnc9ZbtI"
      }
    },
    {
      "cell_type": "code",
      "source": [
        "f = lambda x: x**2-2\n",
        "f_prime = lambda x: 2*x\n",
        "estimate = my_newton(f, f_prime, 1.5, 1e-6)\n",
        "print(\"estimate =\", estimate)\n",
        "print(\"sqrt(2) =\",np.sqrt(2))"
      ],
      "metadata": {
        "colab": {
          "base_uri": "https://localhost:8080/"
        },
        "id": "zFJnxIytZhln",
        "outputId": "e6d71caf-ed8a-4bd9-8946-7e39709d49c1"
      },
      "execution_count": null,
      "outputs": [
        {
          "output_type": "stream",
          "name": "stdout",
          "text": [
            "estimate = 1.4142135623746899\n",
            "sqrt(2) = 1.4142135623730951\n"
          ]
        }
      ]
    },
    {
      "cell_type": "markdown",
      "source": [
        "# **Latihan**"
      ],
      "metadata": {
        "id": "_l79MbNaaO9N"
      }
    },
    {
      "cell_type": "markdown",
      "source": [
        "**No.1 **\n",
        "Buatlah sebuah fungsi penyelesaian yang tepat baik dengan menggunakan metode Bagi Dua maupun Newton Raphson ketika \n",
        "\n",
        "a. f(x) = x^3 - 2x + 1\n",
        "\n",
        "b. f(x) = e^x - x\n",
        "\n",
        "**No 2**\n",
        "\n",
        "Buatlah modifikasi fungsi ketika kriteria program berhenti adalah sudah mencapai pada iterasi ke-n baik untuk Bagi Dua maupun Newton Raphson"
      ],
      "metadata": {
        "id": "XX6f9MQOaTas"
      }
    },
    {
      "cell_type": "markdown",
      "source": [
        "**Modifikasi Soal dari Kelompok**"
      ],
      "metadata": {
        "id": "mjV9Nch5bOAI"
      }
    },
    {
      "cell_type": "code",
      "source": [
        "Jawaban No 1"
      ],
      "metadata": {
        "id": "MjocESJra-b5"
      },
      "execution_count": null,
      "outputs": []
    },
    {
      "cell_type": "code",
      "source": [
        "import numpy as np #panggil library\n",
        "\n",
        "# Fungsi bisection\n",
        "def my_bisection (f, a, b, e,iterasi): \n",
        "  # Cek tanda jika sama, tidak ada akar pada interval\n",
        "  if np.sign(f(a)) == np.sign(f(b)): \n",
        "    raise Exception('Tidak ada akar pada interval a dan b')\n",
        "  m = (a + b)/2\n",
        "  iterasi +=1\n",
        "  # Diasumsikan berhenti pada iterasi ke-16\n",
        "  if iterasi == 16: \n",
        "    print(\"a = \", a)\n",
        "    print(\"b = \", b)\n",
        "    return m\n",
        "  elif np.sign(f(a)) == np.sign(f(m)):\n",
        "    return my_bisection(f, m, b, e, iterasi)\n",
        "  elif np.sign(f(b)) == np.sign(f(m)):\n",
        "    return my_bisection(f, a, m, e,iterasi)\n"
      ],
      "metadata": {
        "id": "jVsaHjIxLuA4"
      },
      "execution_count": 14,
      "outputs": []
    },
    {
      "cell_type": "code",
      "source": [
        "# Fungsi lambda\n",
        "f = lambda x : x**3 - 2*x + 1\n",
        "# Batas\n",
        "a = -3\n",
        "b = 2\n",
        "# Misalkan Epsilonnya 0.00001\n",
        "e = 0.00001\n",
        "#Method\n",
        "\n",
        "print(\"Maka akar yang ditemukan \", my_bisection (f,a,b,e,0))"
      ],
      "metadata": {
        "colab": {
          "base_uri": "https://localhost:8080/"
        },
        "id": "I-qcrn5xLx12",
        "outputId": "c2c7fd9a-cb4d-4cea-9003-0ca815d33c63"
      },
      "execution_count": 15,
      "outputs": [
        {
          "output_type": "stream",
          "name": "stdout",
          "text": [
            "a =  -1.6181640625\n",
            "b =  -1.618011474609375\n",
            "Maka akar yang ditemukan  -1.6180877685546875\n"
          ]
        }
      ]
    },
    {
      "cell_type": "code",
      "source": [
        "Jawaban No 2"
      ],
      "metadata": {
        "id": "9v8bV5NUatks"
      },
      "execution_count": null,
      "outputs": []
    },
    {
      "cell_type": "markdown",
      "source": [
        "![Screenshot 2022-09-15 204748(1).png](data:image/png;base64,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)\n",
        "\n",
        "Bukti bahwa Soal B **tidak ada solusi**, karena grafik menunjukkan sumbu y selalu positif"
      ],
      "metadata": {
        "id": "c-6a6ThLU1kC"
      }
    },
    {
      "cell_type": "code",
      "source": [
        "from math import e\n",
        "f = lambda x : e**x - x\n",
        "# Batas\n",
        "a = -5\n",
        "b = 6\n",
        "#Misalkan Epsilonnya 0.00001\n",
        "epsilon = 0.00001\n",
        "\n",
        "\n",
        "print(\"Maka akar yang ditemukan \", my_bisection(f,a,b,epsilon,0))\n",
        "\n",
        "# Tidak akan menemukan jawaban karena dimanapun perkiraan selang diletakkan, tandanya akan tetap sama.\n"
      ],
      "metadata": {
        "colab": {
          "base_uri": "https://localhost:8080/",
          "height": 340
        },
        "id": "44qFcSK2UR-V",
        "outputId": "99c4274f-e4a9-434e-e912-11d6c554b6a3"
      },
      "execution_count": 16,
      "outputs": [
        {
          "output_type": "error",
          "ename": "Exception",
          "evalue": "ignored",
          "traceback": [
            "\u001b[0;31m---------------------------------------------------------------------------\u001b[0m",
            "\u001b[0;31mException\u001b[0m                                 Traceback (most recent call last)",
            "\u001b[0;32m<ipython-input-16-262a13c7b283>\u001b[0m in \u001b[0;36m<module>\u001b[0;34m\u001b[0m\n\u001b[1;32m      8\u001b[0m \u001b[0;34m\u001b[0m\u001b[0m\n\u001b[1;32m      9\u001b[0m \u001b[0;34m\u001b[0m\u001b[0m\n\u001b[0;32m---> 10\u001b[0;31m \u001b[0mprint\u001b[0m\u001b[0;34m(\u001b[0m\u001b[0;34m\"Maka akar yang ditemukan \"\u001b[0m\u001b[0;34m,\u001b[0m \u001b[0mmy_bisection\u001b[0m\u001b[0;34m(\u001b[0m\u001b[0mf\u001b[0m\u001b[0;34m,\u001b[0m\u001b[0ma\u001b[0m\u001b[0;34m,\u001b[0m\u001b[0mb\u001b[0m\u001b[0;34m,\u001b[0m\u001b[0mepsilon\u001b[0m\u001b[0;34m,\u001b[0m\u001b[0;36m0\u001b[0m\u001b[0;34m)\u001b[0m\u001b[0;34m)\u001b[0m\u001b[0;34m\u001b[0m\u001b[0;34m\u001b[0m\u001b[0m\n\u001b[0m\u001b[1;32m     11\u001b[0m \u001b[0;31m#memang tidak akan menemukan jawaban karena dimanapun diletakan tandanya akan tetap sama\u001b[0m\u001b[0;34m\u001b[0m\u001b[0;34m\u001b[0m\u001b[0;34m\u001b[0m\u001b[0m\n",
            "\u001b[0;32m<ipython-input-14-14bdca2eccdf>\u001b[0m in \u001b[0;36mmy_bisection\u001b[0;34m(f, a, b, e, iterasi)\u001b[0m\n\u001b[1;32m      5\u001b[0m   \u001b[0;31m# Cek tanda jika sama, tidak ada akar pada interval\u001b[0m\u001b[0;34m\u001b[0m\u001b[0;34m\u001b[0m\u001b[0;34m\u001b[0m\u001b[0m\n\u001b[1;32m      6\u001b[0m   \u001b[0;32mif\u001b[0m \u001b[0mnp\u001b[0m\u001b[0;34m.\u001b[0m\u001b[0msign\u001b[0m\u001b[0;34m(\u001b[0m\u001b[0mf\u001b[0m\u001b[0;34m(\u001b[0m\u001b[0ma\u001b[0m\u001b[0;34m)\u001b[0m\u001b[0;34m)\u001b[0m \u001b[0;34m==\u001b[0m \u001b[0mnp\u001b[0m\u001b[0;34m.\u001b[0m\u001b[0msign\u001b[0m\u001b[0;34m(\u001b[0m\u001b[0mf\u001b[0m\u001b[0;34m(\u001b[0m\u001b[0mb\u001b[0m\u001b[0;34m)\u001b[0m\u001b[0;34m)\u001b[0m\u001b[0;34m:\u001b[0m\u001b[0;34m\u001b[0m\u001b[0;34m\u001b[0m\u001b[0m\n\u001b[0;32m----> 7\u001b[0;31m     \u001b[0;32mraise\u001b[0m \u001b[0mException\u001b[0m\u001b[0;34m(\u001b[0m\u001b[0;34m'Tidak ada akar pada interval a dan b'\u001b[0m\u001b[0;34m)\u001b[0m\u001b[0;34m\u001b[0m\u001b[0;34m\u001b[0m\u001b[0m\n\u001b[0m\u001b[1;32m      8\u001b[0m   \u001b[0mm\u001b[0m \u001b[0;34m=\u001b[0m \u001b[0;34m(\u001b[0m\u001b[0ma\u001b[0m \u001b[0;34m+\u001b[0m \u001b[0mb\u001b[0m\u001b[0;34m)\u001b[0m\u001b[0;34m/\u001b[0m\u001b[0;36m2\u001b[0m\u001b[0;34m\u001b[0m\u001b[0;34m\u001b[0m\u001b[0m\n\u001b[1;32m      9\u001b[0m   \u001b[0miterasi\u001b[0m \u001b[0;34m+=\u001b[0m\u001b[0;36m1\u001b[0m\u001b[0;34m\u001b[0m\u001b[0;34m\u001b[0m\u001b[0m\n",
            "\u001b[0;31mException\u001b[0m: Tidak ada akar pada interval a dan b"
          ]
        }
      ]
    }
  ]
}